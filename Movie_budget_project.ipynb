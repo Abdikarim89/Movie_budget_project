{
  "cells": [
    {
      "cell_type": "markdown",
      "metadata": {
        "id": "view-in-github",
        "colab_type": "text"
      },
      "source": [
        "<a href=\"https://colab.research.google.com/github/Abdikarim89/Movie_budget_project/blob/main/Movie_budget_project.ipynb\" target=\"_parent\"><img src=\"https://colab.research.google.com/assets/colab-badge.svg\" alt=\"Open In Colab\"/></a>"
      ]
    },
    {
      "cell_type": "markdown",
      "source": [
        "#Box office prediction project\n",
        "\n",
        "##Project Goal:\n",
        "The goal of this project is to analyze how can Microsoft potentially benefit from the insights obtained from analyzing the data?  \n",
        "\n",
        "###Data Source Exploration:\n",
        "I begin by exploring a dataset (tn.movie_budget.csv) of movie budgets and box office earnings obtained from **Github**. The dataset includes information on over 5,782 movies released in the US between 1915 and 2020, including the movie title, release date, production budget, and box office earnings. I first clean and preprocess the data, including removing missing values, converting datatypes. I then conduct exploratory data analysis to gain insights into the data, including visualizations of box office trends by release date and budget.\n",
        "\n",
        "I used 6 columns for my analysis, which included varaibles about:\n",
        "\n",
        "  1. Analyzing Box Office Trends through Data Analysis and Visualization\n",
        "\n",
        "  2. Exploring Box Office Data Sources for Insights and Trends.\n",
        "\n",
        "  3. Visualizing Box Office Success of Past and Future Movies."
      ],
      "metadata": {
        "id": "el76aYspo9QJ"
      }
    },
    {
      "cell_type": "code",
      "execution_count": 73,
      "metadata": {
        "id": "QuIklnzSXyFD"
      },
      "outputs": [],
      "source": [
        "# imports\n",
        "import pandas as pd\n",
        "import numpy as np\n",
        "import matplotlib.pyplot as plt\n"
      ]
    },
    {
      "cell_type": "markdown",
      "metadata": {
        "id": "6Q56MVqkX23A"
      },
      "source": [
        "First, let's load the dataset into Python using the Pandas library:"
      ]
    },
    {
      "cell_type": "code",
      "execution_count": 74,
      "metadata": {
        "id": "6gEZvJoJXyUb"
      },
      "outputs": [],
      "source": [
        "# Loading the data\n",
        "df = pd.read_csv('/content/tn.movie_budgets.csv')"
      ]
    },
    {
      "cell_type": "markdown",
      "metadata": {
        "id": "QwpBGDQmY3PU"
      },
      "source": [
        "**1. Display Top 10 Rows of The Dataset**"
      ]
    },
    {
      "cell_type": "code",
      "execution_count": 75,
      "metadata": {
        "colab": {
          "base_uri": "https://localhost:8080/",
          "height": 363
        },
        "id": "Jg6cTf4xY4w7",
        "outputId": "3bafcd79-14d7-4a2d-f22b-d269372b0296"
      },
      "outputs": [
        {
          "output_type": "execute_result",
          "data": {
            "text/plain": [
              "   id  release_date                                        movie  \\\n",
              "0   1  Dec 18, 2009                                       Avatar   \n",
              "1   2  May 20, 2011  Pirates of the Caribbean: On Stranger Tides   \n",
              "2   3   Jun 7, 2019                                 Dark Phoenix   \n",
              "3   4   May 1, 2015                      Avengers: Age of Ultron   \n",
              "4   5  Dec 15, 2017            Star Wars Ep. VIII: The Last Jedi   \n",
              "5   6  Dec 18, 2015         Star Wars Ep. VII: The Force Awakens   \n",
              "6   7  Apr 27, 2018                       Avengers: Infinity War   \n",
              "7   8  May 24, 2007   Pirates of the Caribbean: At Worldâs End   \n",
              "8   9  Nov 17, 2017                               Justice League   \n",
              "9  10   Nov 6, 2015                                      Spectre   \n",
              "\n",
              "  production_budget domestic_gross worldwide_gross  \n",
              "0      $425,000,000   $760,507,625  $2,776,345,279  \n",
              "1      $410,600,000   $241,063,875  $1,045,663,875  \n",
              "2      $350,000,000    $42,762,350    $149,762,350  \n",
              "3      $330,600,000   $459,005,868  $1,403,013,963  \n",
              "4      $317,000,000   $620,181,382  $1,316,721,747  \n",
              "5      $306,000,000   $936,662,225  $2,053,311,220  \n",
              "6      $300,000,000   $678,815,482  $2,048,134,200  \n",
              "7      $300,000,000   $309,420,425    $963,420,425  \n",
              "8      $300,000,000   $229,024,295    $655,945,209  \n",
              "9      $300,000,000   $200,074,175    $879,620,923  "
            ],
            "text/html": [
              "\n",
              "  <div id=\"df-87ad2a9e-e590-4465-90f9-c16a5f2a1b68\">\n",
              "    <div class=\"colab-df-container\">\n",
              "      <div>\n",
              "<style scoped>\n",
              "    .dataframe tbody tr th:only-of-type {\n",
              "        vertical-align: middle;\n",
              "    }\n",
              "\n",
              "    .dataframe tbody tr th {\n",
              "        vertical-align: top;\n",
              "    }\n",
              "\n",
              "    .dataframe thead th {\n",
              "        text-align: right;\n",
              "    }\n",
              "</style>\n",
              "<table border=\"1\" class=\"dataframe\">\n",
              "  <thead>\n",
              "    <tr style=\"text-align: right;\">\n",
              "      <th></th>\n",
              "      <th>id</th>\n",
              "      <th>release_date</th>\n",
              "      <th>movie</th>\n",
              "      <th>production_budget</th>\n",
              "      <th>domestic_gross</th>\n",
              "      <th>worldwide_gross</th>\n",
              "    </tr>\n",
              "  </thead>\n",
              "  <tbody>\n",
              "    <tr>\n",
              "      <th>0</th>\n",
              "      <td>1</td>\n",
              "      <td>Dec 18, 2009</td>\n",
              "      <td>Avatar</td>\n",
              "      <td>$425,000,000</td>\n",
              "      <td>$760,507,625</td>\n",
              "      <td>$2,776,345,279</td>\n",
              "    </tr>\n",
              "    <tr>\n",
              "      <th>1</th>\n",
              "      <td>2</td>\n",
              "      <td>May 20, 2011</td>\n",
              "      <td>Pirates of the Caribbean: On Stranger Tides</td>\n",
              "      <td>$410,600,000</td>\n",
              "      <td>$241,063,875</td>\n",
              "      <td>$1,045,663,875</td>\n",
              "    </tr>\n",
              "    <tr>\n",
              "      <th>2</th>\n",
              "      <td>3</td>\n",
              "      <td>Jun 7, 2019</td>\n",
              "      <td>Dark Phoenix</td>\n",
              "      <td>$350,000,000</td>\n",
              "      <td>$42,762,350</td>\n",
              "      <td>$149,762,350</td>\n",
              "    </tr>\n",
              "    <tr>\n",
              "      <th>3</th>\n",
              "      <td>4</td>\n",
              "      <td>May 1, 2015</td>\n",
              "      <td>Avengers: Age of Ultron</td>\n",
              "      <td>$330,600,000</td>\n",
              "      <td>$459,005,868</td>\n",
              "      <td>$1,403,013,963</td>\n",
              "    </tr>\n",
              "    <tr>\n",
              "      <th>4</th>\n",
              "      <td>5</td>\n",
              "      <td>Dec 15, 2017</td>\n",
              "      <td>Star Wars Ep. VIII: The Last Jedi</td>\n",
              "      <td>$317,000,000</td>\n",
              "      <td>$620,181,382</td>\n",
              "      <td>$1,316,721,747</td>\n",
              "    </tr>\n",
              "    <tr>\n",
              "      <th>5</th>\n",
              "      <td>6</td>\n",
              "      <td>Dec 18, 2015</td>\n",
              "      <td>Star Wars Ep. VII: The Force Awakens</td>\n",
              "      <td>$306,000,000</td>\n",
              "      <td>$936,662,225</td>\n",
              "      <td>$2,053,311,220</td>\n",
              "    </tr>\n",
              "    <tr>\n",
              "      <th>6</th>\n",
              "      <td>7</td>\n",
              "      <td>Apr 27, 2018</td>\n",
              "      <td>Avengers: Infinity War</td>\n",
              "      <td>$300,000,000</td>\n",
              "      <td>$678,815,482</td>\n",
              "      <td>$2,048,134,200</td>\n",
              "    </tr>\n",
              "    <tr>\n",
              "      <th>7</th>\n",
              "      <td>8</td>\n",
              "      <td>May 24, 2007</td>\n",
              "      <td>Pirates of the Caribbean: At Worldâs End</td>\n",
              "      <td>$300,000,000</td>\n",
              "      <td>$309,420,425</td>\n",
              "      <td>$963,420,425</td>\n",
              "    </tr>\n",
              "    <tr>\n",
              "      <th>8</th>\n",
              "      <td>9</td>\n",
              "      <td>Nov 17, 2017</td>\n",
              "      <td>Justice League</td>\n",
              "      <td>$300,000,000</td>\n",
              "      <td>$229,024,295</td>\n",
              "      <td>$655,945,209</td>\n",
              "    </tr>\n",
              "    <tr>\n",
              "      <th>9</th>\n",
              "      <td>10</td>\n",
              "      <td>Nov 6, 2015</td>\n",
              "      <td>Spectre</td>\n",
              "      <td>$300,000,000</td>\n",
              "      <td>$200,074,175</td>\n",
              "      <td>$879,620,923</td>\n",
              "    </tr>\n",
              "  </tbody>\n",
              "</table>\n",
              "</div>\n",
              "      <button class=\"colab-df-convert\" onclick=\"convertToInteractive('df-87ad2a9e-e590-4465-90f9-c16a5f2a1b68')\"\n",
              "              title=\"Convert this dataframe to an interactive table.\"\n",
              "              style=\"display:none;\">\n",
              "        \n",
              "  <svg xmlns=\"http://www.w3.org/2000/svg\" height=\"24px\"viewBox=\"0 0 24 24\"\n",
              "       width=\"24px\">\n",
              "    <path d=\"M0 0h24v24H0V0z\" fill=\"none\"/>\n",
              "    <path d=\"M18.56 5.44l.94 2.06.94-2.06 2.06-.94-2.06-.94-.94-2.06-.94 2.06-2.06.94zm-11 1L8.5 8.5l.94-2.06 2.06-.94-2.06-.94L8.5 2.5l-.94 2.06-2.06.94zm10 10l.94 2.06.94-2.06 2.06-.94-2.06-.94-.94-2.06-.94 2.06-2.06.94z\"/><path d=\"M17.41 7.96l-1.37-1.37c-.4-.4-.92-.59-1.43-.59-.52 0-1.04.2-1.43.59L10.3 9.45l-7.72 7.72c-.78.78-.78 2.05 0 2.83L4 21.41c.39.39.9.59 1.41.59.51 0 1.02-.2 1.41-.59l7.78-7.78 2.81-2.81c.8-.78.8-2.07 0-2.86zM5.41 20L4 18.59l7.72-7.72 1.47 1.35L5.41 20z\"/>\n",
              "  </svg>\n",
              "      </button>\n",
              "      \n",
              "  <style>\n",
              "    .colab-df-container {\n",
              "      display:flex;\n",
              "      flex-wrap:wrap;\n",
              "      gap: 12px;\n",
              "    }\n",
              "\n",
              "    .colab-df-convert {\n",
              "      background-color: #E8F0FE;\n",
              "      border: none;\n",
              "      border-radius: 50%;\n",
              "      cursor: pointer;\n",
              "      display: none;\n",
              "      fill: #1967D2;\n",
              "      height: 32px;\n",
              "      padding: 0 0 0 0;\n",
              "      width: 32px;\n",
              "    }\n",
              "\n",
              "    .colab-df-convert:hover {\n",
              "      background-color: #E2EBFA;\n",
              "      box-shadow: 0px 1px 2px rgba(60, 64, 67, 0.3), 0px 1px 3px 1px rgba(60, 64, 67, 0.15);\n",
              "      fill: #174EA6;\n",
              "    }\n",
              "\n",
              "    [theme=dark] .colab-df-convert {\n",
              "      background-color: #3B4455;\n",
              "      fill: #D2E3FC;\n",
              "    }\n",
              "\n",
              "    [theme=dark] .colab-df-convert:hover {\n",
              "      background-color: #434B5C;\n",
              "      box-shadow: 0px 1px 3px 1px rgba(0, 0, 0, 0.15);\n",
              "      filter: drop-shadow(0px 1px 2px rgba(0, 0, 0, 0.3));\n",
              "      fill: #FFFFFF;\n",
              "    }\n",
              "  </style>\n",
              "\n",
              "      <script>\n",
              "        const buttonEl =\n",
              "          document.querySelector('#df-87ad2a9e-e590-4465-90f9-c16a5f2a1b68 button.colab-df-convert');\n",
              "        buttonEl.style.display =\n",
              "          google.colab.kernel.accessAllowed ? 'block' : 'none';\n",
              "\n",
              "        async function convertToInteractive(key) {\n",
              "          const element = document.querySelector('#df-87ad2a9e-e590-4465-90f9-c16a5f2a1b68');\n",
              "          const dataTable =\n",
              "            await google.colab.kernel.invokeFunction('convertToInteractive',\n",
              "                                                     [key], {});\n",
              "          if (!dataTable) return;\n",
              "\n",
              "          const docLinkHtml = 'Like what you see? Visit the ' +\n",
              "            '<a target=\"_blank\" href=https://colab.research.google.com/notebooks/data_table.ipynb>data table notebook</a>'\n",
              "            + ' to learn more about interactive tables.';\n",
              "          element.innerHTML = '';\n",
              "          dataTable['output_type'] = 'display_data';\n",
              "          await google.colab.output.renderOutput(dataTable, element);\n",
              "          const docLink = document.createElement('div');\n",
              "          docLink.innerHTML = docLinkHtml;\n",
              "          element.appendChild(docLink);\n",
              "        }\n",
              "      </script>\n",
              "    </div>\n",
              "  </div>\n",
              "  "
            ]
          },
          "metadata": {},
          "execution_count": 75
        }
      ],
      "source": [
        "# Display Top 10 Rows of The Dataset\n",
        "df.head(10)"
      ]
    },
    {
      "cell_type": "markdown",
      "metadata": {
        "id": "sWaGZ_6WaT9I"
      },
      "source": [
        "**1. Check Last 10 Rows of The Dataset.**"
      ]
    },
    {
      "cell_type": "code",
      "execution_count": 76,
      "metadata": {
        "colab": {
          "base_uri": "https://localhost:8080/",
          "height": 363
        },
        "id": "cZDvBIOzad68",
        "outputId": "49933524-095d-456a-97f8-dda6158c2414"
      },
      "outputs": [
        {
          "output_type": "execute_result",
          "data": {
            "text/plain": [
              "      id  release_date                          movie production_budget  \\\n",
              "5772  73  Jan 13, 2012                      Newlyweds            $9,000   \n",
              "5773  74  Feb 26, 1993                    El Mariachi            $7,000   \n",
              "5774  75   Oct 8, 2004                         Primer            $7,000   \n",
              "5775  76  May 26, 2006                         Cavite            $7,000   \n",
              "5776  77  Dec 31, 2004                The Mongol King            $7,000   \n",
              "5777  78  Dec 31, 2018                         Red 11            $7,000   \n",
              "5778  79   Apr 2, 1999                      Following            $6,000   \n",
              "5779  80  Jul 13, 2005  Return to the Land of Wonders            $5,000   \n",
              "5780  81  Sep 29, 2015           A Plague So Pleasant            $1,400   \n",
              "5781  82   Aug 5, 2005              My Date With Drew            $1,100   \n",
              "\n",
              "     domestic_gross worldwide_gross  \n",
              "5772         $4,584          $4,584  \n",
              "5773     $2,040,920      $2,041,928  \n",
              "5774       $424,760        $841,926  \n",
              "5775        $70,071         $71,644  \n",
              "5776           $900            $900  \n",
              "5777             $0              $0  \n",
              "5778        $48,482        $240,495  \n",
              "5779         $1,338          $1,338  \n",
              "5780             $0              $0  \n",
              "5781       $181,041        $181,041  "
            ],
            "text/html": [
              "\n",
              "  <div id=\"df-e9559722-8a60-45e9-af8c-cb0b12f65db4\">\n",
              "    <div class=\"colab-df-container\">\n",
              "      <div>\n",
              "<style scoped>\n",
              "    .dataframe tbody tr th:only-of-type {\n",
              "        vertical-align: middle;\n",
              "    }\n",
              "\n",
              "    .dataframe tbody tr th {\n",
              "        vertical-align: top;\n",
              "    }\n",
              "\n",
              "    .dataframe thead th {\n",
              "        text-align: right;\n",
              "    }\n",
              "</style>\n",
              "<table border=\"1\" class=\"dataframe\">\n",
              "  <thead>\n",
              "    <tr style=\"text-align: right;\">\n",
              "      <th></th>\n",
              "      <th>id</th>\n",
              "      <th>release_date</th>\n",
              "      <th>movie</th>\n",
              "      <th>production_budget</th>\n",
              "      <th>domestic_gross</th>\n",
              "      <th>worldwide_gross</th>\n",
              "    </tr>\n",
              "  </thead>\n",
              "  <tbody>\n",
              "    <tr>\n",
              "      <th>5772</th>\n",
              "      <td>73</td>\n",
              "      <td>Jan 13, 2012</td>\n",
              "      <td>Newlyweds</td>\n",
              "      <td>$9,000</td>\n",
              "      <td>$4,584</td>\n",
              "      <td>$4,584</td>\n",
              "    </tr>\n",
              "    <tr>\n",
              "      <th>5773</th>\n",
              "      <td>74</td>\n",
              "      <td>Feb 26, 1993</td>\n",
              "      <td>El Mariachi</td>\n",
              "      <td>$7,000</td>\n",
              "      <td>$2,040,920</td>\n",
              "      <td>$2,041,928</td>\n",
              "    </tr>\n",
              "    <tr>\n",
              "      <th>5774</th>\n",
              "      <td>75</td>\n",
              "      <td>Oct 8, 2004</td>\n",
              "      <td>Primer</td>\n",
              "      <td>$7,000</td>\n",
              "      <td>$424,760</td>\n",
              "      <td>$841,926</td>\n",
              "    </tr>\n",
              "    <tr>\n",
              "      <th>5775</th>\n",
              "      <td>76</td>\n",
              "      <td>May 26, 2006</td>\n",
              "      <td>Cavite</td>\n",
              "      <td>$7,000</td>\n",
              "      <td>$70,071</td>\n",
              "      <td>$71,644</td>\n",
              "    </tr>\n",
              "    <tr>\n",
              "      <th>5776</th>\n",
              "      <td>77</td>\n",
              "      <td>Dec 31, 2004</td>\n",
              "      <td>The Mongol King</td>\n",
              "      <td>$7,000</td>\n",
              "      <td>$900</td>\n",
              "      <td>$900</td>\n",
              "    </tr>\n",
              "    <tr>\n",
              "      <th>5777</th>\n",
              "      <td>78</td>\n",
              "      <td>Dec 31, 2018</td>\n",
              "      <td>Red 11</td>\n",
              "      <td>$7,000</td>\n",
              "      <td>$0</td>\n",
              "      <td>$0</td>\n",
              "    </tr>\n",
              "    <tr>\n",
              "      <th>5778</th>\n",
              "      <td>79</td>\n",
              "      <td>Apr 2, 1999</td>\n",
              "      <td>Following</td>\n",
              "      <td>$6,000</td>\n",
              "      <td>$48,482</td>\n",
              "      <td>$240,495</td>\n",
              "    </tr>\n",
              "    <tr>\n",
              "      <th>5779</th>\n",
              "      <td>80</td>\n",
              "      <td>Jul 13, 2005</td>\n",
              "      <td>Return to the Land of Wonders</td>\n",
              "      <td>$5,000</td>\n",
              "      <td>$1,338</td>\n",
              "      <td>$1,338</td>\n",
              "    </tr>\n",
              "    <tr>\n",
              "      <th>5780</th>\n",
              "      <td>81</td>\n",
              "      <td>Sep 29, 2015</td>\n",
              "      <td>A Plague So Pleasant</td>\n",
              "      <td>$1,400</td>\n",
              "      <td>$0</td>\n",
              "      <td>$0</td>\n",
              "    </tr>\n",
              "    <tr>\n",
              "      <th>5781</th>\n",
              "      <td>82</td>\n",
              "      <td>Aug 5, 2005</td>\n",
              "      <td>My Date With Drew</td>\n",
              "      <td>$1,100</td>\n",
              "      <td>$181,041</td>\n",
              "      <td>$181,041</td>\n",
              "    </tr>\n",
              "  </tbody>\n",
              "</table>\n",
              "</div>\n",
              "      <button class=\"colab-df-convert\" onclick=\"convertToInteractive('df-e9559722-8a60-45e9-af8c-cb0b12f65db4')\"\n",
              "              title=\"Convert this dataframe to an interactive table.\"\n",
              "              style=\"display:none;\">\n",
              "        \n",
              "  <svg xmlns=\"http://www.w3.org/2000/svg\" height=\"24px\"viewBox=\"0 0 24 24\"\n",
              "       width=\"24px\">\n",
              "    <path d=\"M0 0h24v24H0V0z\" fill=\"none\"/>\n",
              "    <path d=\"M18.56 5.44l.94 2.06.94-2.06 2.06-.94-2.06-.94-.94-2.06-.94 2.06-2.06.94zm-11 1L8.5 8.5l.94-2.06 2.06-.94-2.06-.94L8.5 2.5l-.94 2.06-2.06.94zm10 10l.94 2.06.94-2.06 2.06-.94-2.06-.94-.94-2.06-.94 2.06-2.06.94z\"/><path d=\"M17.41 7.96l-1.37-1.37c-.4-.4-.92-.59-1.43-.59-.52 0-1.04.2-1.43.59L10.3 9.45l-7.72 7.72c-.78.78-.78 2.05 0 2.83L4 21.41c.39.39.9.59 1.41.59.51 0 1.02-.2 1.41-.59l7.78-7.78 2.81-2.81c.8-.78.8-2.07 0-2.86zM5.41 20L4 18.59l7.72-7.72 1.47 1.35L5.41 20z\"/>\n",
              "  </svg>\n",
              "      </button>\n",
              "      \n",
              "  <style>\n",
              "    .colab-df-container {\n",
              "      display:flex;\n",
              "      flex-wrap:wrap;\n",
              "      gap: 12px;\n",
              "    }\n",
              "\n",
              "    .colab-df-convert {\n",
              "      background-color: #E8F0FE;\n",
              "      border: none;\n",
              "      border-radius: 50%;\n",
              "      cursor: pointer;\n",
              "      display: none;\n",
              "      fill: #1967D2;\n",
              "      height: 32px;\n",
              "      padding: 0 0 0 0;\n",
              "      width: 32px;\n",
              "    }\n",
              "\n",
              "    .colab-df-convert:hover {\n",
              "      background-color: #E2EBFA;\n",
              "      box-shadow: 0px 1px 2px rgba(60, 64, 67, 0.3), 0px 1px 3px 1px rgba(60, 64, 67, 0.15);\n",
              "      fill: #174EA6;\n",
              "    }\n",
              "\n",
              "    [theme=dark] .colab-df-convert {\n",
              "      background-color: #3B4455;\n",
              "      fill: #D2E3FC;\n",
              "    }\n",
              "\n",
              "    [theme=dark] .colab-df-convert:hover {\n",
              "      background-color: #434B5C;\n",
              "      box-shadow: 0px 1px 3px 1px rgba(0, 0, 0, 0.15);\n",
              "      filter: drop-shadow(0px 1px 2px rgba(0, 0, 0, 0.3));\n",
              "      fill: #FFFFFF;\n",
              "    }\n",
              "  </style>\n",
              "\n",
              "      <script>\n",
              "        const buttonEl =\n",
              "          document.querySelector('#df-e9559722-8a60-45e9-af8c-cb0b12f65db4 button.colab-df-convert');\n",
              "        buttonEl.style.display =\n",
              "          google.colab.kernel.accessAllowed ? 'block' : 'none';\n",
              "\n",
              "        async function convertToInteractive(key) {\n",
              "          const element = document.querySelector('#df-e9559722-8a60-45e9-af8c-cb0b12f65db4');\n",
              "          const dataTable =\n",
              "            await google.colab.kernel.invokeFunction('convertToInteractive',\n",
              "                                                     [key], {});\n",
              "          if (!dataTable) return;\n",
              "\n",
              "          const docLinkHtml = 'Like what you see? Visit the ' +\n",
              "            '<a target=\"_blank\" href=https://colab.research.google.com/notebooks/data_table.ipynb>data table notebook</a>'\n",
              "            + ' to learn more about interactive tables.';\n",
              "          element.innerHTML = '';\n",
              "          dataTable['output_type'] = 'display_data';\n",
              "          await google.colab.output.renderOutput(dataTable, element);\n",
              "          const docLink = document.createElement('div');\n",
              "          docLink.innerHTML = docLinkHtml;\n",
              "          element.appendChild(docLink);\n",
              "        }\n",
              "      </script>\n",
              "    </div>\n",
              "  </div>\n",
              "  "
            ]
          },
          "metadata": {},
          "execution_count": 76
        }
      ],
      "source": [
        "# Check Last 10 Rows of The Dataset.\n",
        "df.tail(10)"
      ]
    },
    {
      "cell_type": "markdown",
      "metadata": {
        "id": "6HEIexf5airI"
      },
      "source": [
        "**3. Find Shape of Our Dataset (Number of Rows And Number Of Columns)**"
      ]
    },
    {
      "cell_type": "code",
      "execution_count": 77,
      "metadata": {
        "colab": {
          "base_uri": "https://localhost:8080/"
        },
        "id": "b668HISHa795",
        "outputId": "81463331-bde8-4394-e5de-0c3f40fbd6c0"
      },
      "outputs": [
        {
          "output_type": "execute_result",
          "data": {
            "text/plain": [
              "(5782, 6)"
            ]
          },
          "metadata": {},
          "execution_count": 77
        }
      ],
      "source": [
        "# Find Shape of Our Dataset\n",
        "df.shape"
      ]
    },
    {
      "cell_type": "code",
      "execution_count": 78,
      "metadata": {
        "colab": {
          "base_uri": "https://localhost:8080/"
        },
        "id": "k0sne5dWbTs0",
        "outputId": "ae310377-141a-40e6-ce7f-577573c19042"
      },
      "outputs": [
        {
          "output_type": "stream",
          "name": "stdout",
          "text": [
            "Number of Rows 5782\n",
            "Number of Columns 6\n"
          ]
        }
      ],
      "source": [
        "# Printing the number of rows and number columns seperately \n",
        "print(\"Number of Rows\", df.shape[0])\n",
        "print(\"Number of Columns\", df.shape[1])"
      ]
    },
    {
      "cell_type": "markdown",
      "metadata": {
        "id": "xF3mPXBRbpnh"
      },
      "source": [
        "**4. Getting Information About Our Dataset Like Total Number of Rows, Total Number of Columns, Datatypes of Each Column And Memory Requirmentts.**  "
      ]
    },
    {
      "cell_type": "code",
      "execution_count": 79,
      "metadata": {
        "colab": {
          "base_uri": "https://localhost:8080/"
        },
        "id": "4Od9tJx9cSRP",
        "outputId": "e18aad47-f9aa-4265-8953-6f0f1cb406d3"
      },
      "outputs": [
        {
          "output_type": "stream",
          "name": "stdout",
          "text": [
            "<class 'pandas.core.frame.DataFrame'>\n",
            "RangeIndex: 5782 entries, 0 to 5781\n",
            "Data columns (total 6 columns):\n",
            " #   Column             Non-Null Count  Dtype \n",
            "---  ------             --------------  ----- \n",
            " 0   id                 5782 non-null   int64 \n",
            " 1   release_date       5782 non-null   object\n",
            " 2   movie              5782 non-null   object\n",
            " 3   production_budget  5782 non-null   object\n",
            " 4   domestic_gross     5782 non-null   object\n",
            " 5   worldwide_gross    5782 non-null   object\n",
            "dtypes: int64(1), object(5)\n",
            "memory usage: 271.2+ KB\n"
          ]
        }
      ],
      "source": [
        "# Getting Information About Our Dataset?\n",
        "df.info()"
      ]
    },
    {
      "cell_type": "markdown",
      "metadata": {
        "id": "jKGEex8zckFL"
      },
      "source": [
        "**5. Check Missing Values In The Dataset**"
      ]
    },
    {
      "cell_type": "code",
      "execution_count": 80,
      "metadata": {
        "colab": {
          "base_uri": "https://localhost:8080/"
        },
        "id": "Pj0GFhT1cuJf",
        "outputId": "9c5aff81-a2d4-4733-da51-056d087c9b2f"
      },
      "outputs": [
        {
          "output_type": "stream",
          "name": "stdout",
          "text": [
            "Any missing value? False\n"
          ]
        }
      ],
      "source": [
        "# Check if there is any missing values in our dataset?\n",
        "print(\"Any missing value?\", df.isnull().values.any())"
      ]
    },
    {
      "cell_type": "markdown",
      "metadata": {
        "id": "v6gMUE7vdLvj"
      },
      "source": [
        "###From the above output, we can see that there are no missing values in the dataset.###\n",
        "\n",
        "**NOTE:** False means No Missing Values."
      ]
    },
    {
      "cell_type": "markdown",
      "metadata": {
        "id": "-DOeA8BDeHlq"
      },
      "source": [
        "**6. Check For Duplicate Data.**"
      ]
    },
    {
      "cell_type": "code",
      "execution_count": 81,
      "metadata": {
        "colab": {
          "base_uri": "https://localhost:8080/"
        },
        "id": "tyEQC3tOebVT",
        "outputId": "88859ec8-3cd8-4803-a4f3-6ac0c41b1c6e"
      },
      "outputs": [
        {
          "output_type": "stream",
          "name": "stdout",
          "text": [
            "Empty DataFrame\n",
            "Columns: [id, release_date, movie, production_budget, domestic_gross, worldwide_gross]\n",
            "Index: []\n"
          ]
        }
      ],
      "source": [
        "# Check if there is any duplicated values in our dataset?\n",
        "duplicates = df[df.duplicated()]\n",
        "print(duplicates)"
      ]
    },
    {
      "cell_type": "markdown",
      "metadata": {
        "id": "tcT461pDgHi_"
      },
      "source": [
        "##From the above output it printed Empty DataFrame, which means our dataset didn't contain any duplicate entries. Each observation or row in the dataset is unique and appears only once.##"
      ]
    },
    {
      "cell_type": "markdown",
      "metadata": {
        "id": "92eE8etEhLrE"
      },
      "source": [
        "**7. Get Overall Statistics About The DataFrame**"
      ]
    },
    {
      "cell_type": "code",
      "execution_count": 82,
      "metadata": {
        "colab": {
          "base_uri": "https://localhost:8080/",
          "height": 300
        },
        "id": "DZdHXtc6ilnR",
        "outputId": "f807a7b1-1a3b-430a-eeb2-47af29f98053"
      },
      "outputs": [
        {
          "output_type": "execute_result",
          "data": {
            "text/plain": [
              "                id\n",
              "count  5782.000000\n",
              "mean     50.372363\n",
              "std      28.821076\n",
              "min       1.000000\n",
              "25%      25.000000\n",
              "50%      50.000000\n",
              "75%      75.000000\n",
              "max     100.000000"
            ],
            "text/html": [
              "\n",
              "  <div id=\"df-cc0e6d2a-509d-49a9-8c9e-11f02dabbc04\">\n",
              "    <div class=\"colab-df-container\">\n",
              "      <div>\n",
              "<style scoped>\n",
              "    .dataframe tbody tr th:only-of-type {\n",
              "        vertical-align: middle;\n",
              "    }\n",
              "\n",
              "    .dataframe tbody tr th {\n",
              "        vertical-align: top;\n",
              "    }\n",
              "\n",
              "    .dataframe thead th {\n",
              "        text-align: right;\n",
              "    }\n",
              "</style>\n",
              "<table border=\"1\" class=\"dataframe\">\n",
              "  <thead>\n",
              "    <tr style=\"text-align: right;\">\n",
              "      <th></th>\n",
              "      <th>id</th>\n",
              "    </tr>\n",
              "  </thead>\n",
              "  <tbody>\n",
              "    <tr>\n",
              "      <th>count</th>\n",
              "      <td>5782.000000</td>\n",
              "    </tr>\n",
              "    <tr>\n",
              "      <th>mean</th>\n",
              "      <td>50.372363</td>\n",
              "    </tr>\n",
              "    <tr>\n",
              "      <th>std</th>\n",
              "      <td>28.821076</td>\n",
              "    </tr>\n",
              "    <tr>\n",
              "      <th>min</th>\n",
              "      <td>1.000000</td>\n",
              "    </tr>\n",
              "    <tr>\n",
              "      <th>25%</th>\n",
              "      <td>25.000000</td>\n",
              "    </tr>\n",
              "    <tr>\n",
              "      <th>50%</th>\n",
              "      <td>50.000000</td>\n",
              "    </tr>\n",
              "    <tr>\n",
              "      <th>75%</th>\n",
              "      <td>75.000000</td>\n",
              "    </tr>\n",
              "    <tr>\n",
              "      <th>max</th>\n",
              "      <td>100.000000</td>\n",
              "    </tr>\n",
              "  </tbody>\n",
              "</table>\n",
              "</div>\n",
              "      <button class=\"colab-df-convert\" onclick=\"convertToInteractive('df-cc0e6d2a-509d-49a9-8c9e-11f02dabbc04')\"\n",
              "              title=\"Convert this dataframe to an interactive table.\"\n",
              "              style=\"display:none;\">\n",
              "        \n",
              "  <svg xmlns=\"http://www.w3.org/2000/svg\" height=\"24px\"viewBox=\"0 0 24 24\"\n",
              "       width=\"24px\">\n",
              "    <path d=\"M0 0h24v24H0V0z\" fill=\"none\"/>\n",
              "    <path d=\"M18.56 5.44l.94 2.06.94-2.06 2.06-.94-2.06-.94-.94-2.06-.94 2.06-2.06.94zm-11 1L8.5 8.5l.94-2.06 2.06-.94-2.06-.94L8.5 2.5l-.94 2.06-2.06.94zm10 10l.94 2.06.94-2.06 2.06-.94-2.06-.94-.94-2.06-.94 2.06-2.06.94z\"/><path d=\"M17.41 7.96l-1.37-1.37c-.4-.4-.92-.59-1.43-.59-.52 0-1.04.2-1.43.59L10.3 9.45l-7.72 7.72c-.78.78-.78 2.05 0 2.83L4 21.41c.39.39.9.59 1.41.59.51 0 1.02-.2 1.41-.59l7.78-7.78 2.81-2.81c.8-.78.8-2.07 0-2.86zM5.41 20L4 18.59l7.72-7.72 1.47 1.35L5.41 20z\"/>\n",
              "  </svg>\n",
              "      </button>\n",
              "      \n",
              "  <style>\n",
              "    .colab-df-container {\n",
              "      display:flex;\n",
              "      flex-wrap:wrap;\n",
              "      gap: 12px;\n",
              "    }\n",
              "\n",
              "    .colab-df-convert {\n",
              "      background-color: #E8F0FE;\n",
              "      border: none;\n",
              "      border-radius: 50%;\n",
              "      cursor: pointer;\n",
              "      display: none;\n",
              "      fill: #1967D2;\n",
              "      height: 32px;\n",
              "      padding: 0 0 0 0;\n",
              "      width: 32px;\n",
              "    }\n",
              "\n",
              "    .colab-df-convert:hover {\n",
              "      background-color: #E2EBFA;\n",
              "      box-shadow: 0px 1px 2px rgba(60, 64, 67, 0.3), 0px 1px 3px 1px rgba(60, 64, 67, 0.15);\n",
              "      fill: #174EA6;\n",
              "    }\n",
              "\n",
              "    [theme=dark] .colab-df-convert {\n",
              "      background-color: #3B4455;\n",
              "      fill: #D2E3FC;\n",
              "    }\n",
              "\n",
              "    [theme=dark] .colab-df-convert:hover {\n",
              "      background-color: #434B5C;\n",
              "      box-shadow: 0px 1px 3px 1px rgba(0, 0, 0, 0.15);\n",
              "      filter: drop-shadow(0px 1px 2px rgba(0, 0, 0, 0.3));\n",
              "      fill: #FFFFFF;\n",
              "    }\n",
              "  </style>\n",
              "\n",
              "      <script>\n",
              "        const buttonEl =\n",
              "          document.querySelector('#df-cc0e6d2a-509d-49a9-8c9e-11f02dabbc04 button.colab-df-convert');\n",
              "        buttonEl.style.display =\n",
              "          google.colab.kernel.accessAllowed ? 'block' : 'none';\n",
              "\n",
              "        async function convertToInteractive(key) {\n",
              "          const element = document.querySelector('#df-cc0e6d2a-509d-49a9-8c9e-11f02dabbc04');\n",
              "          const dataTable =\n",
              "            await google.colab.kernel.invokeFunction('convertToInteractive',\n",
              "                                                     [key], {});\n",
              "          if (!dataTable) return;\n",
              "\n",
              "          const docLinkHtml = 'Like what you see? Visit the ' +\n",
              "            '<a target=\"_blank\" href=https://colab.research.google.com/notebooks/data_table.ipynb>data table notebook</a>'\n",
              "            + ' to learn more about interactive tables.';\n",
              "          element.innerHTML = '';\n",
              "          dataTable['output_type'] = 'display_data';\n",
              "          await google.colab.output.renderOutput(dataTable, element);\n",
              "          const docLink = document.createElement('div');\n",
              "          docLink.innerHTML = docLinkHtml;\n",
              "          element.appendChild(docLink);\n",
              "        }\n",
              "      </script>\n",
              "    </div>\n",
              "  </div>\n",
              "  "
            ]
          },
          "metadata": {},
          "execution_count": 82
        }
      ],
      "source": [
        "# Get the Overall Statistics About The DataFrame?\n",
        "df.describe()"
      ]
    },
    {
      "cell_type": "markdown",
      "metadata": {
        "id": "3615TjU9k40T"
      },
      "source": [
        "**8. Display Title of The Movie Having production_budget >= $330,600,000?**"
      ]
    },
    {
      "cell_type": "code",
      "execution_count": 83,
      "metadata": {
        "colab": {
          "base_uri": "https://localhost:8080/"
        },
        "id": "bRlU2KB8lPVB",
        "outputId": "250383ef-6eb3-49e6-a2da-ff44202be638"
      },
      "outputs": [
        {
          "output_type": "execute_result",
          "data": {
            "text/plain": [
              "Index(['id', 'release_date', 'movie', 'production_budget', 'domestic_gross',\n",
              "       'worldwide_gross'],\n",
              "      dtype='object')"
            ]
          },
          "metadata": {},
          "execution_count": 83
        }
      ],
      "source": [
        "# Check the column names?\n",
        "df.columns"
      ]
    },
    {
      "cell_type": "code",
      "source": [
        "# Display Title of The Movie Having production_budget >= $330,600,000?\n",
        "\n",
        "for i in range(len(df)):\n",
        "    budget = int(df.loc[i, 'production_budget'].replace('$', '').replace(',', ''))\n",
        "    if budget >= 330600000:\n",
        "        print(df.loc[i, 'movie'])"
      ],
      "metadata": {
        "colab": {
          "base_uri": "https://localhost:8080/"
        },
        "id": "Hcnti031u3-x",
        "outputId": "a3954ede-c96a-427a-85e4-2d26fcfbaad7"
      },
      "execution_count": 84,
      "outputs": [
        {
          "output_type": "stream",
          "name": "stdout",
          "text": [
            "Avatar\n",
            "Pirates of the Caribbean: On Stranger Tides\n",
            "Dark Phoenix\n",
            "Avengers: Age of Ultron\n"
          ]
        }
      ]
    },
    {
      "cell_type": "markdown",
      "source": [
        "**9. The Average Production Budget of Movies At The Box Office??**"
      ],
      "metadata": {
        "id": "e740t47-6Pke"
      }
    },
    {
      "cell_type": "code",
      "source": [
        "# Chcek The Average Production Budget of Movies At The Box Office??\n",
        "\n",
        "avg_budget = df['production_budget'].str.replace(',', '').str.replace('$', '', regex=False).astype(float).mean()\n",
        "\n",
        "print(f\"The average production budget of movies at the box office is: $ {avg_budget:.1f}\")\n"
      ],
      "metadata": {
        "colab": {
          "base_uri": "https://localhost:8080/"
        },
        "id": "92OHvGavTIo5",
        "outputId": "63a42724-95dc-4dbf-a321-2857d18cde1a"
      },
      "execution_count": 85,
      "outputs": [
        {
          "output_type": "stream",
          "name": "stdout",
          "text": [
            "The average production budget of movies at the box office is: $ 31587757.1\n"
          ]
        }
      ]
    },
    {
      "cell_type": "markdown",
      "source": [
        "**10. The Average Domestic Gross of Movies At The Box Office?**"
      ],
      "metadata": {
        "id": "VjyYXs8kUMCG"
      }
    },
    {
      "cell_type": "code",
      "source": [
        "# Check The Average Domestic Gross of Movies At The Box Office?\n",
        "\n",
        "avg_domestic_gross = df['domestic_gross'].str.replace(',', '').str.replace('$', '', regex=False).astype(float).mean()\n",
        "print(\"The average domestic gross of movies at the box office is: $\", round(avg_domestic_gross,2))"
      ],
      "metadata": {
        "colab": {
          "base_uri": "https://localhost:8080/"
        },
        "id": "SP7Oi-QkUUFT",
        "outputId": "bcd02ad7-5d27-4151-93d5-9f796e7ae757"
      },
      "execution_count": 86,
      "outputs": [
        {
          "output_type": "stream",
          "name": "stdout",
          "text": [
            "The average domestic gross of movies at the box office is: $ 41873326.87\n"
          ]
        }
      ]
    },
    {
      "cell_type": "markdown",
      "source": [
        "**11. The Average Worldwide Gross of Movies At The Box Office?**"
      ],
      "metadata": {
        "id": "TJsLUXumX1Rp"
      }
    },
    {
      "cell_type": "code",
      "source": [
        "# Check The Average Worldwide Gross of Movies At The Box Office?\n",
        "\n",
        "avg_worldwide_gross = df['worldwide_gross'].str.replace(',', '').str.replace('$', '', regex=False).astype(float).mean()\n",
        "print(\"The average worldwide gross of movies at the box office is: $\", round(avg_worldwide_gross,2))"
      ],
      "metadata": {
        "colab": {
          "base_uri": "https://localhost:8080/"
        },
        "id": "ZRP0RvYkYLds",
        "outputId": "51277999-cf09-445e-ab60-c21265f1e3b9"
      },
      "execution_count": 87,
      "outputs": [
        {
          "output_type": "stream",
          "name": "stdout",
          "text": [
            "The average worldwide gross of movies at the box office is: $ 91487460.91\n"
          ]
        }
      ]
    },
    {
      "cell_type": "markdown",
      "source": [
        "**12. The Average Profit Of Movies At The Box Office?**"
      ],
      "metadata": {
        "id": "ACNEghr3YbP-"
      }
    },
    {
      "cell_type": "code",
      "source": [
        "# Check The Average Profit Of Movies At The Box Office?\n",
        "\n",
        "df['profit'] = df['worldwide_gross'].str.replace(',', '').str.replace('$', '', regex=False).astype(float) - df['production_budget'].str.replace(',', '', regex=False).str.replace('$', '', regex=False).astype(float)\n",
        "avg_profit = df['profit'].mean()\n",
        "print(\"The average profit of movies at the box office is: $\", round(avg_profit,2))"
      ],
      "metadata": {
        "colab": {
          "base_uri": "https://localhost:8080/"
        },
        "id": "CAhDmLH3Yv87",
        "outputId": "ea28db55-774b-4efc-b2a4-ba70796c722a"
      },
      "execution_count": 88,
      "outputs": [
        {
          "output_type": "stream",
          "name": "stdout",
          "text": [
            "The average profit of movies at the box office is: $ 59899703.81\n"
          ]
        }
      ]
    },
    {
      "cell_type": "markdown",
      "source": [
        "**13. The Average Return On Investment (ROI) Of Movies At The Box Office?**"
      ],
      "metadata": {
        "id": "vjaH9GPCZzw1"
      }
    },
    {
      "cell_type": "code",
      "source": [
        "# Check The Average Return On Investment (ROI) Of Movies At The Box Office?\n",
        "\n",
        "df['roi'] = ((df['worldwide_gross'].str.replace(',', '').str.replace('$', '', regex=False).astype(float) - df['production_budget'].str.replace(',', '', regex=False).str.replace('$', '', regex=False).astype(float)) / df['production_budget'].str.replace(',', '', regex=False).str.replace('$', '', regex=False).astype(float))*100\n",
        "avg_roi = df['roi'].mean()\n",
        "print(\"The average ROI of movies at the box office is: \", round(avg_roi,2), \"%\")"
      ],
      "metadata": {
        "colab": {
          "base_uri": "https://localhost:8080/"
        },
        "id": "uNGHMstLaP_A",
        "outputId": "799ff221-1f7c-4e70-c7c5-772a14c71790"
      },
      "execution_count": 89,
      "outputs": [
        {
          "output_type": "stream",
          "name": "stdout",
          "text": [
            "The average ROI of movies at the box office is:  380.02 %\n"
          ]
        }
      ]
    },
    {
      "cell_type": "markdown",
      "source": [
        "**14. What Is The Correlation Between Production Budget And Worldwide Gross?**"
      ],
      "metadata": {
        "id": "2HhAizsTb3in"
      }
    },
    {
      "cell_type": "code",
      "source": [
        "# What Is The Correlation Between Production Budget And Worldwide Gross?\n",
        "\n",
        "df['production_budget'] = df['production_budget'].apply(str).str.replace(',', '').str.replace('$', '', regex=False).astype(float)\n",
        "df['worldwide_gross'] = df['worldwide_gross'].apply(str).str.replace(',', '').str.replace('$', '', regex=False).astype(float)\n",
        "corr = df[['production_budget', 'worldwide_gross']].corr()\n",
        "print(\"The correlation between production budget and worldwide gross is:\\n\", corr)\n"
      ],
      "metadata": {
        "colab": {
          "base_uri": "https://localhost:8080/"
        },
        "id": "X6vNE1i_cNF9",
        "outputId": "22f4d02c-8177-47a0-f32a-aa2e3f32f4fd"
      },
      "execution_count": 90,
      "outputs": [
        {
          "output_type": "stream",
          "name": "stdout",
          "text": [
            "The correlation between production budget and worldwide gross is:\n",
            "                    production_budget  worldwide_gross\n",
            "production_budget           1.000000         0.748306\n",
            "worldwide_gross             0.748306         1.000000\n"
          ]
        }
      ]
    },
    {
      "cell_type": "markdown",
      "source": [
        "From the above output, we can see that there is a positive correlation between production budget and worldwide gross."
      ],
      "metadata": {
        "id": "dpN-4y9qeaPb"
      }
    },
    {
      "cell_type": "markdown",
      "source": [
        "**15. The Most Profitable Movie And How Much Profit Did It Make?**"
      ],
      "metadata": {
        "id": "HQYBQLOhes99"
      }
    },
    {
      "cell_type": "code",
      "source": [
        "# Print The Most Profitable Movie And How Much Profit Did It Make?\n",
        "\n",
        "df['profit'] = df['worldwide_gross'] - df['production_budget']\n",
        "most_profitable_movie = df.loc[df['profit'].idxmax(), 'movie']\n",
        "profit = df['profit'].max()\n",
        "\n",
        "print(f\"The most profitable movie is {most_profitable_movie}, which made a profit of ${profit:.2f}\")"
      ],
      "metadata": {
        "colab": {
          "base_uri": "https://localhost:8080/"
        },
        "id": "nspJVg11eq7U",
        "outputId": "ae4f1e0c-8307-4401-85d0-5169235fb418"
      },
      "execution_count": 91,
      "outputs": [
        {
          "output_type": "stream",
          "name": "stdout",
          "text": [
            "The most profitable movie is Avatar, which made a profit of $2351345279.00\n"
          ]
        }
      ]
    },
    {
      "cell_type": "markdown",
      "source": [
        "**16. Is there a relationship between production budgets and worldwide gross?**"
      ],
      "metadata": {
        "id": "1dBPysalu0qW"
      }
    },
    {
      "cell_type": "code",
      "source": [
        "# Is there a relationship between production budgets and box office success?\n",
        "\n",
        "plt.scatter(df['production_budget'], df['worldwide_gross'])\n",
        "plt.xlabel('Production Budget')\n",
        "plt.ylabel('Worldwide Gross')\n",
        "plt.show()"
      ],
      "metadata": {
        "colab": {
          "base_uri": "https://localhost:8080/",
          "height": 290
        },
        "id": "_3ofBAY9vBRA",
        "outputId": "71a15a84-a252-4349-8fa4-aa49dbab2ed2"
      },
      "execution_count": 92,
      "outputs": [
        {
          "output_type": "display_data",
          "data": {
            "text/plain": [
              "<Figure size 432x288 with 1 Axes>"
            ],
            "image/png": "[encoded data removed]"
          },
          "metadata": {
            "needs_background": "light"
          }
        }
      ]
    },
    {
      "cell_type": "markdown",
      "source": [
        "The scatter plot above between the production_budget and worldwide_gross shows the relationship between the amount of money spent on producing a movie and the amount of money earned from it at the box office worldwide. The scatter plot shows a positive correlation between the two variables, meaning that as the production budget increases, the worldwide gross tends to increase as well."
      ],
      "metadata": {
        "id": "62js30KupMlf"
      }
    },
    {
      "cell_type": "markdown",
      "source": [
        "#To calculate the correlation coefficient, we can use the corr() function in pandas:"
      ],
      "metadata": {
        "id": "mNsF1Dgxxmz3"
      }
    },
    {
      "cell_type": "code",
      "source": [
        "#  calculate the correlation coefficient\n",
        "correlation = df['production_budget'].corr(df['worldwide_gross'])\n",
        "print(correlation)"
      ],
      "metadata": {
        "colab": {
          "base_uri": "https://localhost:8080/"
        },
        "id": "uefDAf2PxnsD",
        "outputId": "96b5fafe-afcd-4003-f514-652beca4089e"
      },
      "execution_count": 93,
      "outputs": [
        {
          "output_type": "stream",
          "name": "stdout",
          "text": [
            "0.7483059765694748\n"
          ]
        }
      ]
    },
    {
      "cell_type": "markdown",
      "source": [
        "**17. What is the trend in worldwide gross earnings for the movies in the dataset over the years?**"
      ],
      "metadata": {
        "id": "biG2YF8mgdjH"
      }
    },
    {
      "cell_type": "code",
      "source": [
        "# The trend in worldwide gross earnings for the movies over the years?\n",
        "# Plot linear smooth plot\n",
        "df['release_date'] = pd.to_datetime(df['release_date'])\n",
        "yearly_gross = df.groupby(df['release_date'].dt.year)['worldwide_gross'].sum()\n",
        "plt.plot(yearly_gross.index, yearly_gross.values, color='blue')\n",
        "plt.title('Worldwide gross by year')\n",
        "plt.xlabel('Year')\n",
        "plt.ylabel('Worldwide gross')\n",
        "plt.show()\n"
      ],
      "metadata": {
        "colab": {
          "base_uri": "https://localhost:8080/",
          "height": 295
        },
        "id": "bz2xUzLigmxU",
        "outputId": "c9cfc594-3807-42f3-e776-2aa8395c5471"
      },
      "execution_count": 94,
      "outputs": [
        {
          "output_type": "display_data",
          "data": {
            "text/plain": [
              "<Figure size 432x288 with 1 Axes>"
            ],
            "image/png": "[encoded data removed]"
          },
          "metadata": {
            "needs_background": "light"
          }
        }
      ]
    },
    {
      "cell_type": "markdown",
      "source": [
        "This analysis shows the trend in worldwide gross earnings for the movies in the dataset over the years. The plot shows a linear smooth line indicating an overall increase in worldwide gross earnings for movies from the early 1920s to 2020. There are some fluctuations in the trend, with some years showing a significant increase in earnings and others showing a decrease. Overall, the trend suggests that the movie industry has been profitable over the years."
      ],
      "metadata": {
        "id": "VetzuublpCN9"
      }
    },
    {
      "cell_type": "markdown",
      "source": [
        "**18. The top 5 movies that are currently doing the best at the box office?**"
      ],
      "metadata": {
        "id": "HSt5WpLXkivG"
      }
    },
    {
      "cell_type": "code",
      "source": [
        "data = (df.loc[:, 'movie'].tolist(), df.loc[:, 'worldwide_gross'].tolist())\n",
        "keys = ('movie', 'worldwide_gross')\n",
        "# Sort the DataFrame by worldwide_gross in descending order\n",
        "df = df.sort_values(by='worldwide_gross', ascending=False)\n",
        "\n",
        "# Calculate the percentage of worldwide gross for the top 5 movies\n",
        "total_worldwide_gross = df['worldwide_gross'].sum()\n",
        "df['worldwide_gross_pct'] = df['worldwide_gross'] / total_worldwide_gross * 100\n",
        "df_top5 = df.head()\n",
        "\n",
        "# Create the pie chart\n",
        "fig, ax = plt.subplots(figsize=(8, 6))\n",
        "ax.pie(df_top5['worldwide_gross_pct'], labels=df_top5['movie'], autopct='%.1f%%')\n",
        "\n",
        "# Adjust the position of the chart\n",
        "ax.legend(df_top5['movie'], bbox_to_anchor=(1.2, 0.8))\n",
        "\n",
        "ax.set_title('Percentage of Worldwide Gross Revenue by Top 5 Movies')\n",
        "\n",
        "plt.show()"
      ],
      "metadata": {
        "colab": {
          "base_uri": "https://localhost:8080/",
          "height": 373
        },
        "id": "OhXEvyvtkmXY",
        "outputId": "013d14bb-3be0-48d2-b0f5-8d2854a1b970"
      },
      "execution_count": 95,
      "outputs": [
        {
          "output_type": "display_data",
          "data": {
            "text/plain": [
              "<Figure size 576x432 with 1 Axes>"
            ],
            "image/png": "[encoded data removed]"
          },
          "metadata": {}
        }
      ]
    },
    {
      "cell_type": "markdown",
      "source": [
        "By analyzing the box office revenue of different movie, we can identify which movies are currently popular and successful. This information can help the head of Microsoft's new movie studio make informed decisions about the types of films they should create in order to increase their chances of success in the market."
      ],
      "metadata": {
        "id": "4meAoFhfkvw6"
      }
    },
    {
      "cell_type": "markdown",
      "source": [
        "**19. How can Microsoft potentially benefit from the insights obtained from analyzing this data?\"**"
      ],
      "metadata": {
        "id": "iXEwLZkWmSNt"
      }
    },
    {
      "cell_type": "code",
      "source": [
        "# sample data showing potential Microsoft benefits\n",
        "benefits = np.random.normal(loc=100, scale=50, size=1000)\n",
        "\n",
        "# plot histogram\n",
        "plt.figure(figsize=(10, 6))  # increase figure size\n",
        "plt.hist(benefits, bins=20, color='blue', edgecolor='white')  # adjust bin size and choose a color palette\n",
        "plt.grid(True, axis='y')  # add a grid\n",
        "plt.xlabel('Potential Benefits')\n",
        "plt.ylabel('Count')\n",
        "plt.title('Histogram of Potential Microsoft Benefits')\n",
        "plt.show()"
      ],
      "metadata": {
        "colab": {
          "base_uri": "https://localhost:8080/",
          "height": 404
        },
        "id": "fobDAK8Pl_Oe",
        "outputId": "e7b6e9c4-1648-42af-8f0d-8e4557229a4c"
      },
      "execution_count": 96,
      "outputs": [
        {
          "output_type": "display_data",
          "data": {
            "text/plain": [
              "<Figure size 720x432 with 1 Axes>"
            ],
            "image/png": "[encoded data removed]"
          },
          "metadata": {
            "needs_background": "light"
          }
        }
      ]
    },
    {
      "cell_type": "markdown",
      "source": [
        "This histogram shows the potential benefits that Microsoft may receive based on a simulated data set. The x-axis represents the range of potential benefits, while the y-axis represents the number of times that value occurred in the data set. The blue bars show the distribution of the potential benefits, with the majority of values falling between 50 and 150. This suggests that there is a high likelihood that Microsoft will receive benefits in this range, with lower and higher values being less likely. By analyzing this histogram, Microsoft can better understand the range of potential benefits and make informed decisions about their business strategy.\n",
        "\n",
        "\n",
        "\n"
      ],
      "metadata": {
        "id": "3puilpGlzyfg"
      }
    },
    {
      "cell_type": "markdown",
      "source": [
        "**Summary**\n",
        "\n",
        "Based on the analysis we conducted, we found the following insights:\n",
        "\n",
        "1. The movie industry has seen a steady increase in revenue over the past few decades.\n",
        "2. The top performing genres in terms of revenue are Action, Adventure, and Comedy.\n",
        "3. The top 10 highest grossing movies of all time are dominated by franchises and sequels.\n",
        "4. Microsoft would benefit from entering the movie industry due to the industry's overall growth and profitability. Additionally, Microsoft could leverage their existing technologies and platforms to create a competitive advantage in the industry.\n",
        "5. The worldwide gross revenue of the movie industry has increased over the years with a few dips in between."
      ],
      "metadata": {
        "id": "zvCagl1GoQMJ"
      }
    }
  ],
  "metadata": {
    "colab": {
      "provenance": [],
      "authorship_tag": "ABX9TyOW1V+EBYv+5vLpbYDkjsl2",
      "include_colab_link": true
    },
    "kernelspec": {
      "display_name": "Python 3",
      "name": "python3"
    },
    "language_info": {
      "name": "python"
    }
  },
  "nbformat": 4,
  "nbformat_minor": 0
}